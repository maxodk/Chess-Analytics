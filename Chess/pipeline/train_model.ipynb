{
 "cells": [
  {
   "cell_type": "code",
   "execution_count": 1,
   "id": "d996f782-eb45-4b86-b487-21c2b18c17c8",
   "metadata": {},
   "outputs": [
    {
     "name": "stderr",
     "output_type": "stream",
     "text": [
      "C:\\Users\\maxim\\AppData\\Local\\Programs\\Python\\Python311\\Lib\\site-packages\\sklearn\\ensemble\\_gb.py:424: DataConversionWarning: A column-vector y was passed when a 1d array was expected. Please change the shape of y to (n_samples, ), for example using ravel().\n",
      "  y = column_or_1d(y, warn=True)\n"
     ]
    },
    {
     "name": "stdout",
     "output_type": "stream",
     "text": [
      "0.7635658914728682\n",
      "0.7635658914728682\n",
      "0.7635658914728682\n",
      "0.7635658914728682\n"
     ]
    }
   ],
   "source": [
    "import pickle\n",
    "from sklearn.ensemble import GradientBoostingClassifier\n",
    "import pandas as pd\n",
    "from sklearn import metrics\n",
    "from sklearn.model_selection import train_test_split\n",
    "\n",
    "# custom files\n",
    "import model_best_hyperparameters\n",
    "import columns\n",
    "\n",
    "# read train data\n",
    "ds = pd.read_csv(\"C:/Users/maxim/Chess/data/train.csv\")\n",
    "\n",
    "# feature engineering\n",
    "\n",
    "categorical_columns = ds.select_dtypes(include=['object','bool']).columns\n",
    "\n",
    "map_dicts = dict()\n",
    "for column in categorical_columns:\n",
    "    ds[column] = ds[column].astype('category')\n",
    "    map_dicts[column] = dict(zip(ds[column], ds[column].cat.codes))\n",
    "    ds[column] = ds[column].cat.codes\n",
    "\n",
    "# Define target and features columns\n",
    "X = ds[columns.X_columns]\n",
    "y = ds[columns.y_column]\n",
    "\n",
    "# Let's say we want to split the data in 90:10 for train:test dataset\n",
    "X_train, X_test, y_train, y_test = train_test_split(X,y, train_size=0.9)\n",
    "\n",
    "# Building and train Random Forest Model\n",
    "rf = GradientBoostingClassifier(**model_best_hyperparameters.params)\n",
    "rf.fit(X_train, y_train)\n",
    "y_pred = rf.predict(X_test)\n",
    "print(metrics.precision_score(y_test, y_pred,average='micro'))\n",
    "print(metrics.recall_score(y_test, y_pred,average='micro'))\n",
    "print(metrics.f1_score(y_test, y_pred,average='micro'))\n",
    "print(metrics.accuracy_score(y_test, y_pred))\n",
    "filename = 'C:/Users/maxim/Chess/models/finalized_model.sav'\n",
    "pickle.dump(rf, open(filename, 'wb'))\n"
   ]
  }
 ],
 "metadata": {
  "kernelspec": {
   "display_name": "Python 3 (ipykernel)",
   "language": "python",
   "name": "python3"
  },
  "language_info": {
   "codemirror_mode": {
    "name": "ipython",
    "version": 3
   },
   "file_extension": ".py",
   "mimetype": "text/x-python",
   "name": "python",
   "nbconvert_exporter": "python",
   "pygments_lexer": "ipython3",
   "version": "3.11.5"
  }
 },
 "nbformat": 4,
 "nbformat_minor": 5
}
